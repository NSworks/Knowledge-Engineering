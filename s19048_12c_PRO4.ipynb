{
  "nbformat": 4,
  "nbformat_minor": 0,
  "metadata": {
    "colab": {
      "name": "s19048_12c_PRO4",
      "provenance": [],
      "collapsed_sections": [],
      "authorship_tag": "ABX9TyMzSMsLfcw058hmOlaMaCzp",
      "include_colab_link": true
    },
    "kernelspec": {
      "name": "python3",
      "display_name": "Python 3"
    },
    "language_info": {
      "name": "python"
    }
  },
  "cells": [
    {
      "cell_type": "markdown",
      "metadata": {
        "id": "view-in-github",
        "colab_type": "text"
      },
      "source": [
        "<a href=\"https://colab.research.google.com/github/NSworks/Knowledge-Engineering/blob/main/s19048_12c_PRO4.ipynb\" target=\"_parent\"><img src=\"https://colab.research.google.com/assets/colab-badge.svg\" alt=\"Open In Colab\"/></a>"
      ]
    },
    {
      "cell_type": "code",
      "metadata": {
        "colab": {
          "base_uri": "https://localhost:8080/",
          "height": 321
        },
        "id": "4jgGyunHcuhT",
        "outputId": "5bc78cb1-1c0a-40ce-fca4-d40e9d12b21b"
      },
      "source": [
        "import numpy as np\n",
        "import matplotlib.pyplot as plt\n",
        "from sklearn.model_selection import train_test_split\n",
        "from math import e as euler\n",
        "\n",
        "a = np.loadtxt('dane15.txt')\n",
        "\n",
        "x = a[:, [0]]\n",
        "y = a[:, [1]]\n",
        "\n",
        "X_train, X_test, y_train, y_test = train_test_split(x, y, test_size=0.3, random_state=1)\n",
        "\n",
        "# Model #1 - Funkcja liniowa y = ax + b\n",
        "c2 = np.hstack([X_train, np.ones(X_train.shape)]) \n",
        "v2 = np.linalg.pinv(c2) @ y_train\n",
        "\n",
        "#Wektor błędu\n",
        "e1 = sum((y - (v2[0] * x + v2[1]))) ** 2 / len(x)  \n",
        "print(\"Błąd dla #1: \",e1)\n",
        "\n",
        "plt.plot(x, y, 'b*')\n",
        "#plt.scatter(X_test, y_test,  color='red')\n",
        "plt.plot(x, v2[0] * x + v2[1])\n",
        "\n",
        "\n",
        "# Model #2 - Funkcja y = x^2 -x + c\n",
        "c_train = np.hstack([X_train * X_train,X_train,np.ones(X_train.shape)]) \n",
        "# wektor parametrów\n",
        "v_train = np.linalg.pinv(c_train) @ y_train \n",
        "\n",
        "c_test = np.hstack([X_test * X_test,X_test,np.ones(X_test.shape)]) \n",
        "v_test = np.linalg.pinv(c_test) @ y_test # wektor parametrów\n",
        "\n",
        "model_train = v_train[0] * x * x - v_train[1] * x + v_train[2] \n",
        "model_test =  v_test[0] * x * x -  v_test[1] * x + v_test[2] \n",
        "e_train_model = sum((y - model_train)) ** 2 / len(x)  #wektor błędu\n",
        "# e_train = sum((y_train - ( v_train[0] * X_train * X_train -  v_train[1] * X_train + v_train[2] ))) ** 2 / len(x)  #wektor błędu\n",
        "# e_test = sum((y_test - ( v_train[0] * X_test * X_test - v_train[1] * X_test + v_train[2] ))) ** 2 / len(x)  #wektor błędu\n",
        "# e_test_model = sum((y - model_test)) ** 2 / len(x)  #wektor błędu\n",
        "# print(e_test_model)\n",
        "# print(e_train)\n",
        "# print(e_test)\n",
        "\n",
        "print(\"Błąd dla #2: \",e_train_model)\n",
        "\n",
        "print(\"Czy model #2 jest dokładniejszy? \",e1>e_train_model)\n",
        "\n",
        "plt.plot(x, model_train)\n",
        "# ----\n",
        "\n",
        "plt.show()"
      ],
      "execution_count": 27,
      "outputs": [
        {
          "output_type": "stream",
          "text": [
            "Błąd dla #1:  [0.02275172]\n",
            "Błąd dla #2:  [0.01673827]\n",
            "Czy model #2 jest dokładniejszy?  [ True]\n"
          ],
          "name": "stdout"
        },
        {
          "output_type": "display_data",
          "data": {
            "image/png": "[encoded data removed]",
            "text/plain": [
              "<Figure size 432x288 with 1 Axes>"
            ]
          },
          "metadata": {
            "tags": [],
            "needs_background": "light"
          }
        }
      ]
    },
    {
      "cell_type": "code",
      "metadata": {
        "id": "9PiD-DBPs3qz"
      },
      "source": [
        ""
      ],
      "execution_count": null,
      "outputs": []
    }
  ]
}