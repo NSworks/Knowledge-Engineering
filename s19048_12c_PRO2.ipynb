{
  "nbformat": 4,
  "nbformat_minor": 0,
  "metadata": {
    "colab": {
      "name": "s19048_12c_PRO2",
      "provenance": [],
      "collapsed_sections": [
        "Z6Mz60W_kHs9"
      ],
      "include_colab_link": true
    },
    "kernelspec": {
      "name": "python3",
      "display_name": "Python 3"
    },
    "language_info": {
      "name": "python"
    }
  },
  "cells": [
    {
      "cell_type": "markdown",
      "metadata": {
        "id": "view-in-github",
        "colab_type": "text"
      },
      "source": [
        "<a href=\"https://colab.research.google.com/github/NSworks/Knowledge-Engineering/blob/main/s19048_12c_PRO2.ipynb\" target=\"_parent\"><img src=\"https://colab.research.google.com/assets/colab-badge.svg\" alt=\"Open In Colab\"/></a>"
      ]
    },
    {
      "cell_type": "markdown",
      "metadata": {
        "id": "qHiLnNMqkD_q"
      },
      "source": [
        "#Zadania klasyfikacji - perceptron, regresja logistyczna\n",
        "\n",
        "\n",
        "Proszę nie używać dostępnych w bibliotekach klasyfikatorów.\n"
      ]
    },
    {
      "cell_type": "markdown",
      "metadata": {
        "id": "QVVFcRumljah"
      },
      "source": [
        "## plot_decision_regions"
      ]
    },
    {
      "cell_type": "code",
      "metadata": {
        "id": "G9M07Y_5lP9c"
      },
      "source": [
        "from matplotlib.colors import ListedColormap\n",
        "import matplotlib.pyplot as plt\n",
        "import numpy as np\n",
        "\n",
        "\n",
        "def plot_decision_regions(X, y, classifier, test_idx=None, resolution=0.02):\n",
        "\n",
        "        # konfiguruje generator znaczników i mapę kolorów\n",
        "        markers = ('s', 'x', 'o', '^', 'v')\n",
        "        colors = ('red', 'blue', 'lightgreen', 'gray', 'cyan')\n",
        "        cmap = ListedColormap(colors[:len(np.unique(y))])\n",
        "\n",
        "        # rysuje wykres powierzchni decyzyjnej\n",
        "        x1_min, x1_max = X[:, 0].min() - 1, X[:, 0].max() + 1\n",
        "        x2_min, x2_max = X[:, 1].min() - 1, X[:, 1].max() + 1\n",
        "        xx1, xx2 = np.meshgrid(np.arange(x1_min, x1_max, resolution), np.arange(x2_min, x2_max, resolution))\n",
        "        Z = classifier.predict(np.array([xx1.ravel(), xx2.ravel()]).T)\n",
        "        Z = Z.reshape(xx1.shape)\n",
        "        plt.contourf(xx1, xx2, Z, alpha=0.3, cmap=cmap)\n",
        "        plt.xlim(xx1.min(), xx1.max())\n",
        "        plt.ylim(xx2.min(), xx2.max())\n",
        "\n",
        "        # rysuje wykres wszystkich próbek\n",
        "        for idx, cl in enumerate(np.unique(y)):\n",
        "            plt.scatter(x=X[y == cl, 0], y=X[y == cl, 1], alpha=0.8, c=cmap(idx), marker=markers[idx], label=cl, edgecolor='black')\n"
      ],
      "execution_count": null,
      "outputs": []
    },
    {
      "cell_type": "markdown",
      "metadata": {
        "id": "Z6Mz60W_kHs9"
      },
      "source": [
        "##1. Używając perceptronów napisz klasyfikator wielo-klasowy (klasyfikujący 3 lub więcej klas). Dla każdej z klas użyj klasyfikatora binarnego. Przykład klasyfikatora binarnego znajduje się poniżej."
      ]
    },
    {
      "cell_type": "code",
      "metadata": {
        "id": "RjZX4wn8ka9M"
      },
      "source": [
        "import matplotlib.pyplot as plt\n",
        "import numpy as np\n",
        "from sklearn.model_selection import train_test_split\n",
        "from sklearn import datasets\n",
        "\n",
        "class Perceptron(object):\n",
        "\n",
        "    # Konstruktor, podajemy współczynik uczenia sie oraz ilość epok\n",
        "    def __init__(self, eta=0.01, n_iter=10):\n",
        "        self.eta = eta\n",
        "        self.n_iter = n_iter\n",
        "\n",
        "    def fit(self, X, y):\n",
        "        self.w_ = np.zeros(1+ X.shape[1])\n",
        "        self.errors_ = []\n",
        "\n",
        "        for _ in range(self.n_iter):\n",
        "            errors = 0\n",
        "            for xi, target in zip(X,y):\n",
        "                update = self.eta * (target - self.predict(xi))\n",
        "                self.w_[1:] += update *xi\n",
        "                self.w_[0] += update\n",
        "                errors += int(update != 0.0)\n",
        "            self.errors_.append(errors)\n",
        "        return self\n",
        "\n",
        "    def net_input(self, X):\n",
        "        return np.dot(X, self.w_[1:]) + self.w_[0]\n",
        "\n",
        "    def predict(self, X):\n",
        "        return np.where(self.net_input(X) >= 0.0, 1, -1)"
      ],
      "execution_count": null,
      "outputs": []
    },
    {
      "cell_type": "code",
      "metadata": {
        "id": "xSJJiLimV7yb",
        "colab": {
          "base_uri": "https://localhost:8080/",
          "height": 335
        },
        "outputId": "fbcde9fd-6620-4370-cf6c-5236c88c7410"
      },
      "source": [
        "def main():\n",
        "    # pobiera danne do uczenia i testowania\n",
        "    iris = datasets.load_iris()\n",
        "    X = iris.data[:, [2, 3]]\n",
        "    y = iris.target\n",
        "    # podział danych na testowe i treningowe\n",
        "    X_train, X_test, y_train, y_test = train_test_split(X, y, test_size=0.3, random_state=1, stratify=y)\n",
        "\n",
        "    # selekcja danych z klas 0 i 1\n",
        "    X_train_01_subset = X_train[(y_train == 0) | (y_train == 1)]\n",
        "    y_train_01_subset = y_train[(y_train == 0) | (y_train == 1)]\n",
        "    # w perceptronie wyjście jest albo 1 albo -1    \n",
        "    y_train_01_subset[(y_train_01_subset == 0)] = -1\n",
        "    ppn = Perceptron(eta=0.1, n_iter=10)\n",
        "    # uczenie modelu\n",
        "    ppn.fit(X_train_01_subset, y_train_01_subset)\n",
        "\n",
        "    # wyświetla wykres\n",
        "    plot_decision_regions(X=X_train_01_subset, y=y_train_01_subset, classifier=ppn)\n",
        "    plt.xlabel(r'$x_1$')\n",
        "    plt.ylabel(r'$x_2$')\n",
        "    plt.legend(loc='upper left')\n",
        "    plt.show()\n",
        "    \n",
        "\n",
        "if __name__ == '__main__':\n",
        "    main()"
      ],
      "execution_count": null,
      "outputs": [
        {
          "output_type": "stream",
          "text": [
            "*c* argument looks like a single numeric RGB or RGBA sequence, which should be avoided as value-mapping will have precedence in case its length matches with *x* & *y*.  Please use the *color* keyword-argument or provide a 2-D array with a single row if you intend to specify the same RGB or RGBA value for all points.\n",
            "*c* argument looks like a single numeric RGB or RGBA sequence, which should be avoided as value-mapping will have precedence in case its length matches with *x* & *y*.  Please use the *color* keyword-argument or provide a 2-D array with a single row if you intend to specify the same RGB or RGBA value for all points.\n"
          ],
          "name": "stderr"
        },
        {
          "output_type": "display_data",
          "data": {
            "image/png": "[encoded data removed]",
            "text/plain": [
              "<Figure size 432x288 with 1 Axes>"
            ]
          },
          "metadata": {
            "tags": [],
            "needs_background": "light"
          }
        }
      ]
    },
    {
      "cell_type": "markdown",
      "metadata": {
        "id": "da76RT4AkMY4"
      },
      "source": [
        "##2. Napisz klasyfikator wielo-klasowy przy użyciu regresji logistycznej. Dla każdej z klas użyj klasyfikatora binarnego. Przykład regresji logistycznej dla przypadku dwuklasowego znajduje się poniżej."
      ]
    },
    {
      "cell_type": "code",
      "metadata": {
        "id": "t1xDlUgnlCxL"
      },
      "source": [
        "import numpy as np\n",
        "import matplotlib.pylab as plt\n",
        "from sklearn import datasets\n",
        "from sklearn.model_selection import train_test_split\n",
        "\n",
        "\n",
        "class LogisticRegressionGD(object):\n",
        "    def __init__(self, eta=0.05, n_iter=100, random_state=1):\n",
        "        self.eta = eta\n",
        "        self.n_iter = n_iter\n",
        "        self.random_state = random_state\n",
        "\n",
        "    def fit(self, X, y):\n",
        "        rgen = np.random.RandomState(self.random_state)\n",
        "        self.w_ = rgen.normal(loc=0.0, scale=0.01, size=1 + X.shape[1])\n",
        "        self.cost_ = []\n",
        "\n",
        "        for i in range(self.n_iter):\n",
        "            net_input = self.net_input(X)\n",
        "            output = self.activation(net_input)\n",
        "            errors = (y - output)\n",
        "            self.w_[1:] += self.eta * X.T.dot(errors)\n",
        "            self.w_[0] += self.eta * errors.sum()\n",
        "            cost = (-y.dot(np.log(output)) - ((1 - y).dot(np.log(1 - output))))\n",
        "            self.cost_.append(cost)\n",
        "        return self\n",
        "\n",
        "    def net_input(self, X):\n",
        "        return np.dot(X, self.w_[1:]) + self.w_[0]\n",
        "\n",
        "    def activation(self, z):\n",
        "        return 1. / (1. + np.exp(-np.clip(z, -250, 250)))\n",
        "\n",
        "    def predict(self, X):\n",
        "        return np.where(self.net_input(X) >= 0.0, 1, 0)"
      ],
      "execution_count": null,
      "outputs": []
    },
    {
      "cell_type": "code",
      "metadata": {
        "id": "NGTTBL4QWl0L",
        "colab": {
          "base_uri": "https://localhost:8080/",
          "height": 337
        },
        "outputId": "a0b968b3-4ae6-436b-8aa0-ed76ef343f38"
      },
      "source": [
        "def main():\n",
        "    iris = datasets.load_iris()\n",
        "    X = iris.data[:, [2, 3]]\n",
        "    y = iris.target\n",
        "    X_train, X_test, y_train, y_test = train_test_split(X, y, test_size=0.3, random_state=1, stratify=y)\n",
        "\n",
        "    #w regresji logarytmicznej wyjście przyjmuje wartości 0 lub 1 (prawdopodobieństwa)\n",
        "    X_train_01_subset = X_train[(y_train == 0) | (y_train == 1)]\n",
        "    y_train_01_subset = y_train[(y_train == 0) | (y_train == 1)]\n",
        "    lrgd = LogisticRegressionGD(eta=0.05, n_iter=1000, random_state=1)\n",
        "    lrgd.fit(X_train_01_subset, y_train_01_subset)\n",
        "    plot_decision_regions(X=X_train_01_subset, y=y_train_01_subset, classifier=lrgd)\n",
        "    plt.xlabel(r'$x_1$')\n",
        "    plt.ylabel(r'$x_2$')\n",
        "    plt.legend(loc='upper left')\n",
        "    plt.show()\n",
        "\n",
        "\n",
        "if __name__ == '__main__':\n",
        "    main()"
      ],
      "execution_count": null,
      "outputs": [
        {
          "output_type": "stream",
          "text": [
            "*c* argument looks like a single numeric RGB or RGBA sequence, which should be avoided as value-mapping will have precedence in case its length matches with *x* & *y*.  Please use the *color* keyword-argument or provide a 2-D array with a single row if you intend to specify the same RGB or RGBA value for all points.\n",
            "*c* argument looks like a single numeric RGB or RGBA sequence, which should be avoided as value-mapping will have precedence in case its length matches with *x* & *y*.  Please use the *color* keyword-argument or provide a 2-D array with a single row if you intend to specify the same RGB or RGBA value for all points.\n"
          ],
          "name": "stderr"
        },
        {
          "output_type": "display_data",
          "data": {
            "image/png": "[encoded data removed]",
            "text/plain": [
              "<Figure size 432x288 with 1 Axes>"
            ]
          },
          "metadata": {
            "tags": [],
            "needs_background": "light"
          }
        }
      ]
    },
    {
      "cell_type": "markdown",
      "metadata": {
        "id": "uGyNbcE1kRbA"
      },
      "source": [
        "##3. Dla regresji logistycznej napisz metodę wypisującą prawdopodobieństwo przynależności próbki (próbek) do danej klasy (klas)."
      ]
    },
    {
      "cell_type": "code",
      "metadata": {
        "id": "htt4Kht-i2pO"
      },
      "source": [
        ""
      ],
      "execution_count": null,
      "outputs": []
    },
    {
      "cell_type": "markdown",
      "metadata": {
        "id": "HST-rwkQZeXi"
      },
      "source": [
        "# Program"
      ]
    },
    {
      "cell_type": "markdown",
      "metadata": {
        "id": "mkGVqaERXaQm"
      },
      "source": [
        "**Ćwiczenie 1**"
      ]
    },
    {
      "cell_type": "code",
      "metadata": {
        "id": "-Zhzx22zZhov",
        "colab": {
          "base_uri": "https://localhost:8080/",
          "height": 354
        },
        "outputId": "294ab3f7-62c7-4a2d-dae5-63e686685819"
      },
      "source": [
        "import matplotlib.pyplot as plt\n",
        "import numpy as np\n",
        "from sklearn import datasets\n",
        "from sklearn.model_selection import train_test_split\n",
        "\n",
        "\n",
        "class Perceptron(object):\n",
        "\n",
        "    def __init__(self, eta=0.1, n_iter=1000):\n",
        "        self.eta = eta\n",
        "        self.n_iter = n_iter\n",
        "\n",
        "    def fit(self, x, y):\n",
        "        self.w_ = np.zeros(1 + x.shape[1])\n",
        "\n",
        "        for _ in range(self.n_iter):\n",
        "            for xi, target in zip(x, y):\n",
        "                update = self.eta * (target - self.predict(xi))\n",
        "                self.w_[1:] += update * xi\n",
        "                self.w_[0] += update\n",
        "        return self\n",
        "\n",
        "    def net_input(self, x):\n",
        "        return np.dot(x, self.w_[1:]) + self.w_[0]\n",
        "\n",
        "    def predict(self, x):\n",
        "        return np.where(self.net_input(x) >= 0.0, 1, -1)\n",
        "\n",
        "#klasyfikator wieloklasowy\n",
        "class Classifier():\n",
        "\n",
        "    def __init__(self, ppn1, ppn2):\n",
        "      #klasyfikatory binarne\n",
        "        self.ppn1 = ppn1\n",
        "        self.ppn2 = ppn2\n",
        "\n",
        "    def predict(self, X):\n",
        "        return np.where(self.ppn1.predict(X) == 1, 0, np.where(self.ppn2.predict(X) == 1, 2, 1))\n",
        "        #sprawdzamy czy klasyfikator nalezy do klasy, nadanie etykiet klas z danych net input\n",
        "\n",
        "def main():\n",
        "\n",
        "    iris = datasets.load_iris()\n",
        "    X = iris.data[:, [2, 3]]\n",
        "    y = iris.target\n",
        "    X_train, X_test, y_train, y_test = train_test_split(X, y, test_size=0.3, random_state=1, stratify=y)\n",
        "    #importowanie etykiet\n",
        "    y_train_01_subset = y_train.copy()\n",
        "    y_train_02_subset = y_train.copy()\n",
        "\n",
        "    y_train_01_subset[(y_train == 1) | (y_train == 2)] = -1\n",
        "    y_train_01_subset[(y_train_01_subset == 0)] = 1\n",
        "\n",
        "    y_train_02_subset[(y_train == 1) | (y_train == 0)] = -1\n",
        "    y_train_02_subset[(y_train_02_subset == 2)] = 1\n",
        "\n",
        "    #tworzenie perceptronów\n",
        "    ppn1 = Perceptron()\n",
        "    ppn2 = Perceptron()\n",
        "\n",
        "    # wytrenowanie modelu na danych przez porownanie wartosci oczekiwanej z tym co analizujemy\n",
        "    ppn1.fit(X_train, y_train_01_subset)\n",
        "    ppn2.fit(X_train, y_train_02_subset)\n",
        "    #multiklasyfikator\n",
        "    classifier = Classifier(ppn1, ppn2)\n",
        "\n",
        "    #dzielenie obszaru na klasy\n",
        "    plot_decision_regions(X_train, y_train, classifier=classifier)\n",
        "    plt.xlabel(r'$x_1$')\n",
        "    plt.ylabel(r'$x_2$')\n",
        "    plt.legend(loc='upper left')\n",
        "    plt.show()\n",
        "\n",
        "\n",
        "if __name__ == '__main__':\n",
        "    main()\n",
        "\n"
      ],
      "execution_count": null,
      "outputs": [
        {
          "output_type": "stream",
          "text": [
            "*c* argument looks like a single numeric RGB or RGBA sequence, which should be avoided as value-mapping will have precedence in case its length matches with *x* & *y*.  Please use the *color* keyword-argument or provide a 2-D array with a single row if you intend to specify the same RGB or RGBA value for all points.\n",
            "*c* argument looks like a single numeric RGB or RGBA sequence, which should be avoided as value-mapping will have precedence in case its length matches with *x* & *y*.  Please use the *color* keyword-argument or provide a 2-D array with a single row if you intend to specify the same RGB or RGBA value for all points.\n",
            "*c* argument looks like a single numeric RGB or RGBA sequence, which should be avoided as value-mapping will have precedence in case its length matches with *x* & *y*.  Please use the *color* keyword-argument or provide a 2-D array with a single row if you intend to specify the same RGB or RGBA value for all points.\n"
          ],
          "name": "stderr"
        },
        {
          "output_type": "display_data",
          "data": {
            "image/png": "[encoded data removed]",
            "text/plain": [
              "<Figure size 432x288 with 1 Axes>"
            ]
          },
          "metadata": {
            "tags": [],
            "needs_background": "light"
          }
        }
      ]
    },
    {
      "cell_type": "markdown",
      "metadata": {
        "id": "9cBx9GNietwq"
      },
      "source": [
        "**Ćwiczenie 2 i 3**"
      ]
    },
    {
      "cell_type": "code",
      "metadata": {
        "colab": {
          "base_uri": "https://localhost:8080/",
          "height": 1000
        },
        "id": "sQTDroAue35q",
        "outputId": "ff38864a-f358-42ef-820a-a29f9e5bd3e4"
      },
      "source": [
        "import matplotlib.pylab as plt\n",
        "import matplotlib.pyplot as plt\n",
        "import numpy as np\n",
        "from sklearn import datasets\n",
        "from sklearn.metrics import accuracy_score\n",
        "from sklearn.model_selection import train_test_split\n",
        "\n",
        "\n",
        "class LogisticRegressionGD(object):\n",
        "    def __init__(self, eta=0.1, n_iter=2000, random_state=1):\n",
        "        self.eta = eta\n",
        "        self.n_iter = n_iter\n",
        "        self.random_state = random_state\n",
        "\n",
        "    def fit(self, X, y):\n",
        "        rgen = np.random.RandomState(self.random_state)\n",
        "        self.w_ = rgen.normal(loc=0.4, scale=0.1, size=1 + X.shape[1])\n",
        "\n",
        "        for i in range(self.n_iter):\n",
        "            net_input = self.net_input(X)\n",
        "            output = self.activation(net_input)\n",
        "            errors = (y - output)\n",
        "            self.w_[1:] += self.eta * X.T.dot(errors)\n",
        "            self.w_[0] += self.eta * errors.sum()\n",
        "        return self\n",
        "\n",
        "    def activation(self, z):\n",
        "        return 1. / (1. + np.exp(-np.clip(z, -250, 250)))\n",
        "    #sprawdzenie na wyjściu czy należy do klasy / softmax [0-1]\n",
        "    #zwraca wartości na osi X w funkcji sigmoidalnej\n",
        "    def net_input(self, X):\n",
        "        return np.dot(X, self.w_[1:]) + self.w_[0]\n",
        "\n",
        "    def predict(self, X):\n",
        "        return np.where(self.net_input(X) >= 0.0, 1, 0)\n",
        "    #binarne sprawdzenie\n",
        "\n",
        "    def printProbability(self, irisInput):\n",
        "        print(\"Class probability:\")\n",
        "        print(self.activation(self.net_input(irisInput)))\n",
        "        print()\n",
        "\n",
        "class MultiLogisticRegression: #klasyfikator wieloklasowy\n",
        "    def __init__(self, clas1, clas2):\n",
        "        self.clas1 = clas1\n",
        "        self.clas2 = clas2\n",
        "\n",
        "    def predict(self, x):\n",
        "        return np.where(self.clas1.predict(x) == 0, 0, np.where(self.clas2.predict(x) == 1, 2, 1))\n",
        "\n",
        "def main():\n",
        "    iris = datasets.load_iris()\n",
        "    x = iris.data[:, [2, 3]] #wyciągamy elementy\n",
        "    y = iris.target\n",
        "    print('y= ', y)\n",
        "\n",
        "    x_train, x_test, y_train, y_test = train_test_split(x, y, test_size=0.3, random_state=1, stratify=y)\n",
        "\n",
        "    #importowanie etykiet\n",
        "    y_train_01_subset = y_train.copy()\n",
        "    y_train_02_subset = y_train.copy()\n",
        "    x_train_01_subset = x_train.copy()\n",
        "    x_train_02_subset = x_train.copy()\n",
        "\n",
        "\n",
        "    #modyfikowanie etykiet\n",
        "    y_train_01_subset[(y_train_01_subset == 2)] = 1\n",
        "\n",
        "    y_train_02_subset[(y_train == 1)] = 0\n",
        "    y_train_02_subset[(y_train_02_subset == 2)] = 1\n",
        "\n",
        "    print('y_train_01_subset = ', y_train_01_subset)\n",
        "    print('y_train_02_subset = ', y_train_02_subset)\n",
        "\n",
        "    # tworzenie n-1 klasyfikatorów\n",
        "    # wytrenowanie modelu na danych przez porownanie wartosci oczekiwanej z tym co analizujemy\n",
        "    lrgd = LogisticRegressionGD()\n",
        "    lrgd.fit(x_train_01_subset, y_train_01_subset)\n",
        "    lrgd2 = LogisticRegressionGD()\n",
        "    lrgd2.fit(x_train_02_subset, y_train_02_subset)\n",
        "    \n",
        "\n",
        "    y_1_predict = lrgd.predict(x_train)\n",
        "    y_2_predict = lrgd2.predict(x_train)\n",
        "\n",
        "    accuracy_1 = accuracy_score(y_1_predict, y_train_01_subset)*100\n",
        "    accuracy_3 = accuracy_score(y_2_predict, y_train_02_subset)*100\n",
        "    print(\"#1 accuracy: \", accuracy_1, '%')\n",
        "    print(\"#2 accuracy: \", accuracy_3, '%')\n",
        "\n",
        "    if accuracy_1 > accuracy_3:\n",
        "        y_results = np.where(y_1_predict == 0, 0, np.where(y_2_predict == 1, 2, 1))\n",
        "    else:\n",
        "        y_results = np.where(y_2_predict == 1, 2, np.where(y_1_predict == 1, 0, 1))\n",
        "    print('Total accuracy: ', accuracy_score(y_results, y_train)*100, '%', sep=\"\")\n",
        "    #\n",
        "\n",
        "    # multiklasyfikator\n",
        "    mu = MultiLogisticRegression(lrgd, lrgd2)\n",
        "    plot_decision_regions(x, y, classifier=mu)\n",
        "    method(x, lrgd, lrgd2)\n",
        "\n",
        "    #dzielenie obszaru na klasy na podstawie regresji logistycznej\n",
        "    plt.xlabel(r'$x_1$')\n",
        "    plt.ylabel(r'$x_2$')\n",
        "    plt.legend(loc='upper left')\n",
        "    plt.show()\n",
        "\n",
        "#metoda wypisująca prawdopodobieństwo przynależności próbki próbek do klas\n",
        "def method(x, r1, r2):\n",
        "    print(r1.activation(r1.net_input(x)))\n",
        "    print(r2.activation(r2.net_input(x)))\n",
        "\n",
        "if __name__ == '__main__':\n",
        "    main()"
      ],
      "execution_count": null,
      "outputs": [
        {
          "output_type": "stream",
          "text": [
            "y=  [0 0 0 0 0 0 0 0 0 0 0 0 0 0 0 0 0 0 0 0 0 0 0 0 0 0 0 0 0 0 0 0 0 0 0 0 0\n",
            " 0 0 0 0 0 0 0 0 0 0 0 0 0 1 1 1 1 1 1 1 1 1 1 1 1 1 1 1 1 1 1 1 1 1 1 1 1\n",
            " 1 1 1 1 1 1 1 1 1 1 1 1 1 1 1 1 1 1 1 1 1 1 1 1 1 1 2 2 2 2 2 2 2 2 2 2 2\n",
            " 2 2 2 2 2 2 2 2 2 2 2 2 2 2 2 2 2 2 2 2 2 2 2 2 2 2 2 2 2 2 2 2 2 2 2 2 2\n",
            " 2 2]\n",
            "y_train_01_subset =  [0 0 1 1 0 1 1 0 1 1 1 1 0 1 1 1 0 1 1 0 1 1 1 1 1 1 1 1 1 1 1 0 1 1 1 1 1\n",
            " 1 1 0 1 0 1 0 0 1 0 0 1 1 0 1 1 0 0 0 1 1 0 1 0 1 1 0 0 1 1 1 1 1 1 1 1 1\n",
            " 1 1 0 0 1 1 1 1 0 1 1 1 0 0 1 0 1 1 1 1 0 1 1 0 0 1 0 1 0 0 0]\n",
            "y_train_02_subset =  [0 0 1 1 0 1 1 0 1 0 0 0 0 0 0 1 0 0 0 0 1 1 0 0 0 1 0 1 1 1 0 0 1 1 1 1 0\n",
            " 1 1 0 1 0 1 0 0 0 0 0 1 0 0 0 0 0 0 0 0 1 0 0 0 0 1 0 0 0 1 0 0 0 1 0 0 1\n",
            " 1 0 0 0 1 0 1 1 0 0 1 1 0 0 1 0 1 0 0 0 0 1 0 0 0 0 0 0 0 0 0]\n",
            "#1 accuracy:  100.0 %\n",
            "#2 accuracy:  94.28571428571428 %\n",
            "Total accuracy: 94.28571428571428%\n"
          ],
          "name": "stdout"
        },
        {
          "output_type": "stream",
          "text": [
            "*c* argument looks like a single numeric RGB or RGBA sequence, which should be avoided as value-mapping will have precedence in case its length matches with *x* & *y*.  Please use the *color* keyword-argument or provide a 2-D array with a single row if you intend to specify the same RGB or RGBA value for all points.\n",
            "*c* argument looks like a single numeric RGB or RGBA sequence, which should be avoided as value-mapping will have precedence in case its length matches with *x* & *y*.  Please use the *color* keyword-argument or provide a 2-D array with a single row if you intend to specify the same RGB or RGBA value for all points.\n",
            "*c* argument looks like a single numeric RGB or RGBA sequence, which should be avoided as value-mapping will have precedence in case its length matches with *x* & *y*.  Please use the *color* keyword-argument or provide a 2-D array with a single row if you intend to specify the same RGB or RGBA value for all points.\n"
          ],
          "name": "stderr"
        },
        {
          "output_type": "stream",
          "text": [
            "[9.82782034e-05 9.82782034e-05 6.32025163e-05 1.52816973e-04\n",
            " 9.82782034e-05 1.80665328e-03 2.17459535e-04 1.52816973e-04\n",
            " 9.82782034e-05 6.90613331e-05 1.52816973e-04 2.37614442e-04\n",
            " 4.44127422e-05 1.18115672e-05 4.06449031e-05 7.47926730e-04\n",
            " 3.09437854e-04 2.17459535e-04 8.17206995e-04 3.38114749e-04\n",
            " 3.69448268e-04 7.47926730e-04 1.68089389e-05 3.98930427e-03\n",
            " 8.92898940e-04 2.37614442e-04 1.16256403e-03 1.52816973e-04\n",
            " 9.82782034e-05 2.37614442e-04 2.37614442e-04 7.47926730e-04\n",
            " 6.90613331e-05 9.82782034e-05 1.52816973e-04 4.06449031e-05\n",
            " 6.32025163e-05 4.44127422e-05 6.32025163e-05 1.52816973e-04\n",
            " 1.39853742e-04 1.39853742e-04 6.32025163e-05 5.66760649e-03\n",
            " 4.35752320e-03 2.17459535e-04 2.37614442e-04 9.82782034e-05\n",
            " 1.52816973e-04 9.82782034e-05 9.99999653e-01 9.99999621e-01\n",
            " 9.99999935e-01 9.99983111e-01 9.99999756e-01 9.99998143e-01\n",
            " 9.99999929e-01 9.95991810e-01 9.99998806e-01 9.99988132e-01\n",
            " 9.98338523e-01 9.99998574e-01 9.99817002e-01 9.99999653e-01\n",
            " 9.99901255e-01 9.99998695e-01 9.99999621e-01 9.99882311e-01\n",
            " 9.99999621e-01 9.99871402e-01 9.99999991e-01 9.99983111e-01\n",
            " 9.99999935e-01 9.99998300e-01 9.99995509e-01 9.99998695e-01\n",
            " 9.99999777e-01 9.99999991e-01 9.99999621e-01 9.98338523e-01\n",
            " 9.99800040e-01 9.99312233e-01 9.99941884e-01 9.99999988e-01\n",
            " 9.99999621e-01 9.99999829e-01 9.99999843e-01 9.99997112e-01\n",
            " 9.99989139e-01 9.99983111e-01 9.99993608e-01 9.99999460e-01\n",
            " 9.99962626e-01 9.95991810e-01 9.99993016e-01 9.99984544e-01\n",
            " 9.99993016e-01 9.99995509e-01 9.93208368e-01 9.99989139e-01\n",
            " 1.00000000e+00 9.99999999e-01 1.00000000e+00 1.00000000e+00\n",
            " 1.00000000e+00 1.00000000e+00 9.99999923e-01 1.00000000e+00\n",
            " 1.00000000e+00 1.00000000e+00 9.99999999e-01 1.00000000e+00\n",
            " 1.00000000e+00 9.99999999e-01 1.00000000e+00 1.00000000e+00\n",
            " 1.00000000e+00 1.00000000e+00 1.00000000e+00 9.99999958e-01\n",
            " 1.00000000e+00 9.99999999e-01 1.00000000e+00 9.99999994e-01\n",
            " 1.00000000e+00 1.00000000e+00 9.99999991e-01 9.99999994e-01\n",
            " 1.00000000e+00 9.99999999e-01 1.00000000e+00 1.00000000e+00\n",
            " 1.00000000e+00 9.99999973e-01 9.99999993e-01 1.00000000e+00\n",
            " 1.00000000e+00 1.00000000e+00 9.99999991e-01 1.00000000e+00\n",
            " 1.00000000e+00 1.00000000e+00 9.99999999e-01 1.00000000e+00\n",
            " 1.00000000e+00 1.00000000e+00 9.99999998e-01 1.00000000e+00\n",
            " 1.00000000e+00 9.99999998e-01]\n",
            "[1.52589073e-48 1.52589073e-48 1.80013274e-49 1.29342824e-47\n",
            " 1.52589073e-48 4.47352602e-43 3.34779106e-47 1.29342824e-47\n",
            " 1.52589073e-48 5.89532058e-49 1.29342824e-47 1.09638035e-46\n",
            " 6.95486209e-50 1.14190983e-52 2.12366313e-50 6.22604364e-45\n",
            " 8.66511545e-47 3.34779106e-47 2.03898982e-44 2.83777037e-46\n",
            " 9.29351801e-46 6.22604364e-45 2.95561471e-52 9.81487740e-42\n",
            " 6.67756236e-44 1.09638035e-46 5.27753430e-44 1.29342824e-47\n",
            " 1.52589073e-48 1.09638035e-46 1.09638035e-46 6.22604364e-45\n",
            " 5.89532058e-49 1.52589073e-48 1.29342824e-47 2.12366313e-50\n",
            " 1.80013274e-49 6.95486209e-50 1.80013274e-49 1.29342824e-47\n",
            " 3.94947566e-48 3.94947566e-48 1.80013274e-49 2.54039288e-41\n",
            " 3.21431012e-41 3.34779106e-47 1.09638035e-46 1.52589073e-48\n",
            " 1.29342824e-47 1.52589073e-48 7.51033638e-02 2.41950384e-02\n",
            " 9.92248575e-01 1.17706095e-09 1.73673606e-01 5.15075746e-05\n",
            " 9.75054463e-01 3.54455642e-20 4.36438234e-04 3.04659664e-09\n",
            " 2.54682850e-18 4.07088564e-05 1.11453630e-13 7.51033638e-02\n",
            " 2.27993958e-13 1.33306578e-04 2.41950384e-02 9.44741780e-13\n",
            " 2.41950384e-02 2.88476358e-13 9.99993730e-01 1.17706095e-09\n",
            " 9.92248575e-01 1.68664277e-04 7.16894671e-07 1.33306578e-04\n",
            " 4.07692279e-01 9.99998085e-01 2.41950384e-02 2.54682850e-18\n",
            " 3.40323017e-14 1.82994277e-16 6.32914634e-12 9.99995045e-01\n",
            " 2.41950384e-02 3.52331241e-01 6.40489853e-01 6.07675781e-06\n",
            " 9.97741075e-09 1.17706095e-09 2.76974339e-07 9.48870008e-03\n",
            " 5.36492977e-11 3.54455642e-20 8.45739711e-08 3.85479997e-09\n",
            " 8.45739711e-08 7.16894671e-07 1.27685063e-21 9.97741075e-09\n",
            " 1.00000000e+00 1.00000000e+00 1.00000000e+00 1.00000000e+00\n",
            " 1.00000000e+00 1.00000000e+00 9.22692131e-01 1.00000000e+00\n",
            " 1.00000000e+00 1.00000000e+00 1.00000000e+00 1.00000000e+00\n",
            " 1.00000000e+00 1.00000000e+00 1.00000000e+00 1.00000000e+00\n",
            " 1.00000000e+00 1.00000000e+00 1.00000000e+00 9.99079249e-01\n",
            " 1.00000000e+00 9.99999998e-01 1.00000000e+00 9.99999260e-01\n",
            " 1.00000000e+00 1.00000000e+00 9.99993730e-01 9.99999260e-01\n",
            " 1.00000000e+00 1.00000000e+00 1.00000000e+00 1.00000000e+00\n",
            " 1.00000000e+00 9.99891288e-01 9.99999945e-01 1.00000000e+00\n",
            " 1.00000000e+00 1.00000000e+00 9.99993730e-01 1.00000000e+00\n",
            " 1.00000000e+00 1.00000000e+00 1.00000000e+00 1.00000000e+00\n",
            " 1.00000000e+00 1.00000000e+00 9.99999996e-01 1.00000000e+00\n",
            " 1.00000000e+00 9.99999990e-01]\n"
          ],
          "name": "stdout"
        },
        {
          "output_type": "display_data",
          "data": {
            "image/png": "[encoded data removed]",
            "text/plain": [
              "<Figure size 432x288 with 1 Axes>"
            ]
          },
          "metadata": {
            "tags": [],
            "needs_background": "light"
          }
        }
      ]
    }
  ]
}